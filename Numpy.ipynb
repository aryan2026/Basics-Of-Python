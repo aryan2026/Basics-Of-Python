{
 "cells": [
  {
   "cell_type": "code",
   "execution_count": 1,
   "id": "6a08dd52-89d9-4ac5-9f1a-460237935c73",
   "metadata": {},
   "outputs": [
    {
     "name": "stdout",
     "output_type": "stream",
     "text": [
      "Hello\n"
     ]
    }
   ],
   "source": [
    "print(\"Hello\")"
   ]
  },
  {
   "cell_type": "code",
   "execution_count": 2,
   "id": "4f463186-65ab-4c7c-8c63-b923ebcde216",
   "metadata": {},
   "outputs": [],
   "source": [
    "import numpy as np"
   ]
  },
  {
   "cell_type": "markdown",
   "id": "cd210d74-c593-4f26-9e76-4d77ff3ff66d",
   "metadata": {},
   "source": [
    "#Learning Array creation method"
   ]
  },
  {
   "cell_type": "code",
   "execution_count": 3,
   "id": "5c661a00-a511-4dcc-9532-ae2980acf875",
   "metadata": {},
   "outputs": [],
   "source": [
    "array = np.array([[1,2],[8,9],[4,7]])"
   ]
  },
  {
   "cell_type": "code",
   "execution_count": 4,
   "id": "27d0d321-0bbd-41a4-8e2d-9e341c99e008",
   "metadata": {},
   "outputs": [
    {
     "data": {
      "text/plain": [
       "(3, 2)"
      ]
     },
     "execution_count": 4,
     "metadata": {},
     "output_type": "execute_result"
    }
   ],
   "source": [
    "array.shape"
   ]
  },
  {
   "cell_type": "code",
   "execution_count": 5,
   "id": "1ba1c6a5-9aef-406f-b359-63fe6c581b82",
   "metadata": {},
   "outputs": [
    {
     "data": {
      "text/plain": [
       "6"
      ]
     },
     "execution_count": 5,
     "metadata": {},
     "output_type": "execute_result"
    }
   ],
   "source": [
    "array.size"
   ]
  },
  {
   "cell_type": "code",
   "execution_count": 6,
   "id": "d6122ad9-a892-4509-8652-cb80b4ec2f42",
   "metadata": {},
   "outputs": [
    {
     "data": {
      "text/plain": [
       "array([[1, 2],\n",
       "       [8, 9],\n",
       "       [4, 7]])"
      ]
     },
     "execution_count": 6,
     "metadata": {},
     "output_type": "execute_result"
    }
   ],
   "source": [
    "array"
   ]
  },
  {
   "cell_type": "code",
   "execution_count": 7,
   "id": "63185a62-1298-4caf-b532-cc90e4381fb8",
   "metadata": {},
   "outputs": [
    {
     "data": {
      "text/plain": [
       "array({65, 12, 78}, dtype=object)"
      ]
     },
     "execution_count": 7,
     "metadata": {},
     "output_type": "execute_result"
    }
   ],
   "source": [
    "np.array({12,65,78})"
   ]
  },
  {
   "cell_type": "code",
   "execution_count": 8,
   "id": "f8fa7755-61a1-41ac-8f85-4a183eefeef7",
   "metadata": {},
   "outputs": [],
   "source": [
    "z =np.zeros((3,4))"
   ]
  },
  {
   "cell_type": "code",
   "execution_count": 9,
   "id": "f5926d17-05f4-4ba7-a2b7-fcf7a9fa6a6c",
   "metadata": {},
   "outputs": [
    {
     "data": {
      "text/plain": [
       "array([[0., 0., 0., 0.],\n",
       "       [0., 0., 0., 0.],\n",
       "       [0., 0., 0., 0.]])"
      ]
     },
     "execution_count": 9,
     "metadata": {},
     "output_type": "execute_result"
    }
   ],
   "source": [
    "z"
   ]
  },
  {
   "cell_type": "code",
   "execution_count": 10,
   "id": "e72600d4-c77f-4e0a-aed9-4eb140c5accd",
   "metadata": {},
   "outputs": [
    {
     "data": {
      "text/plain": [
       "(3, 4)"
      ]
     },
     "execution_count": 10,
     "metadata": {},
     "output_type": "execute_result"
    }
   ],
   "source": [
    "z.shape"
   ]
  },
  {
   "cell_type": "code",
   "execution_count": 11,
   "id": "b480b46d-d808-4198-b1fa-59f07e70e3fb",
   "metadata": {},
   "outputs": [
    {
     "data": {
      "text/plain": [
       "12"
      ]
     },
     "execution_count": 11,
     "metadata": {},
     "output_type": "execute_result"
    }
   ],
   "source": [
    "z.size"
   ]
  },
  {
   "cell_type": "code",
   "execution_count": 12,
   "id": "aaf8a044-50d3-4bdd-94c6-2af8213c7ce7",
   "metadata": {},
   "outputs": [],
   "source": [
    "rng= np.arange((23))"
   ]
  },
  {
   "cell_type": "code",
   "execution_count": 13,
   "id": "943bd1f7-d255-44ae-aa82-585286741a69",
   "metadata": {},
   "outputs": [
    {
     "data": {
      "text/plain": [
       "array([ 0,  1,  2,  3,  4,  5,  6,  7,  8,  9, 10, 11, 12, 13, 14, 15, 16,\n",
       "       17, 18, 19, 20, 21, 22])"
      ]
     },
     "execution_count": 13,
     "metadata": {},
     "output_type": "execute_result"
    }
   ],
   "source": [
    "rng"
   ]
  },
  {
   "cell_type": "markdown",
   "id": "0537ae18-65a0-4af7-ad21-c0a44476b7f1",
   "metadata": {},
   "source": [
    "#USING LINSPACE FOR ARRAY"
   ]
  },
  {
   "cell_type": "code",
   "execution_count": 14,
   "id": "afbd0f15-91a2-4acc-84dc-decf55c34278",
   "metadata": {},
   "outputs": [],
   "source": [
    "lin=np.linspace(2,20,10)"
   ]
  },
  {
   "cell_type": "code",
   "execution_count": 15,
   "id": "7c89c2c4-33e2-428f-bc2b-7f174fc4b7e3",
   "metadata": {},
   "outputs": [
    {
     "data": {
      "text/plain": [
       "array([ 2.,  4.,  6.,  8., 10., 12., 14., 16., 18., 20.])"
      ]
     },
     "execution_count": 15,
     "metadata": {},
     "output_type": "execute_result"
    }
   ],
   "source": [
    "lin"
   ]
  },
  {
   "cell_type": "code",
   "execution_count": 16,
   "id": "005ca951-e9bc-4ffe-9243-86aa50ee6731",
   "metadata": {},
   "outputs": [],
   "source": [
    "rng=np.arange(99)"
   ]
  },
  {
   "cell_type": "code",
   "execution_count": 17,
   "id": "fead67ee-6687-494d-8643-70f463b7d93b",
   "metadata": {},
   "outputs": [
    {
     "data": {
      "text/plain": [
       "array([ 0,  1,  2,  3,  4,  5,  6,  7,  8,  9, 10, 11, 12, 13, 14, 15, 16,\n",
       "       17, 18, 19, 20, 21, 22, 23, 24, 25, 26, 27, 28, 29, 30, 31, 32, 33,\n",
       "       34, 35, 36, 37, 38, 39, 40, 41, 42, 43, 44, 45, 46, 47, 48, 49, 50,\n",
       "       51, 52, 53, 54, 55, 56, 57, 58, 59, 60, 61, 62, 63, 64, 65, 66, 67,\n",
       "       68, 69, 70, 71, 72, 73, 74, 75, 76, 77, 78, 79, 80, 81, 82, 83, 84,\n",
       "       85, 86, 87, 88, 89, 90, 91, 92, 93, 94, 95, 96, 97, 98])"
      ]
     },
     "execution_count": 17,
     "metadata": {},
     "output_type": "execute_result"
    }
   ],
   "source": [
    "rng"
   ]
  },
  {
   "cell_type": "code",
   "execution_count": 18,
   "id": "9e449a68-69c9-4e3b-b019-27a3437677fa",
   "metadata": {},
   "outputs": [],
   "source": [
    "array = rng.reshape(3,33)"
   ]
  },
  {
   "cell_type": "code",
   "execution_count": 19,
   "id": "e7d0d134-baca-4afa-8ce9-f0d1beae9740",
   "metadata": {},
   "outputs": [
    {
     "data": {
      "text/plain": [
       "array([[ 0,  1,  2,  3,  4,  5,  6,  7,  8,  9, 10, 11, 12, 13, 14, 15,\n",
       "        16, 17, 18, 19, 20, 21, 22, 23, 24, 25, 26, 27, 28, 29, 30, 31,\n",
       "        32],\n",
       "       [33, 34, 35, 36, 37, 38, 39, 40, 41, 42, 43, 44, 45, 46, 47, 48,\n",
       "        49, 50, 51, 52, 53, 54, 55, 56, 57, 58, 59, 60, 61, 62, 63, 64,\n",
       "        65],\n",
       "       [66, 67, 68, 69, 70, 71, 72, 73, 74, 75, 76, 77, 78, 79, 80, 81,\n",
       "        82, 83, 84, 85, 86, 87, 88, 89, 90, 91, 92, 93, 94, 95, 96, 97,\n",
       "        98]])"
      ]
     },
     "execution_count": 19,
     "metadata": {},
     "output_type": "execute_result"
    }
   ],
   "source": [
    "array"
   ]
  },
  {
   "cell_type": "code",
   "execution_count": 20,
   "id": "04b5c86b-b582-45d3-beff-7c1ff6d28ebf",
   "metadata": {},
   "outputs": [
    {
     "data": {
      "text/plain": [
       "(3, 33)"
      ]
     },
     "execution_count": 20,
     "metadata": {},
     "output_type": "execute_result"
    }
   ],
   "source": [
    "array.shape"
   ]
  },
  {
   "cell_type": "code",
   "execution_count": 21,
   "id": "c3b1db6e-233a-43f7-a28d-36aaf65584ba",
   "metadata": {},
   "outputs": [
    {
     "data": {
      "text/plain": [
       "99"
      ]
     },
     "execution_count": 21,
     "metadata": {},
     "output_type": "execute_result"
    }
   ],
   "source": [
    "array.size"
   ]
  },
  {
   "cell_type": "code",
   "execution_count": 22,
   "id": "dc64e0ab-68b0-4b6b-b594-abe667f691e4",
   "metadata": {},
   "outputs": [],
   "source": [
    "arr = np.array([[1,2,3],[4,5,6],[7,1,0]])"
   ]
  },
  {
   "cell_type": "code",
   "execution_count": 23,
   "id": "ff622a1b-8822-4038-aea7-f215bc37e984",
   "metadata": {},
   "outputs": [
    {
     "data": {
      "text/plain": [
       "array([[1, 2, 3],\n",
       "       [4, 5, 6],\n",
       "       [7, 1, 0]])"
      ]
     },
     "execution_count": 23,
     "metadata": {},
     "output_type": "execute_result"
    }
   ],
   "source": [
    "arr"
   ]
  },
  {
   "cell_type": "code",
   "execution_count": 24,
   "id": "b5797bd8-4562-411b-a6aa-8ba89fa70e37",
   "metadata": {},
   "outputs": [
    {
     "data": {
      "text/plain": [
       "array([12,  8,  9])"
      ]
     },
     "execution_count": 24,
     "metadata": {},
     "output_type": "execute_result"
    }
   ],
   "source": [
    "arr.sum(axis=0) #runs top to down"
   ]
  },
  {
   "cell_type": "code",
   "execution_count": 25,
   "id": "18b5ca6d-60cf-43aa-a6a8-17c9f4eefce3",
   "metadata": {},
   "outputs": [
    {
     "data": {
      "text/plain": [
       "array([ 6, 15,  8])"
      ]
     },
     "execution_count": 25,
     "metadata": {},
     "output_type": "execute_result"
    }
   ],
   "source": [
    "arr.sum(axis=1) #goes left to right"
   ]
  },
  {
   "cell_type": "code",
   "execution_count": 26,
   "id": "6236546a-669a-42c4-80e0-0e26945712bd",
   "metadata": {},
   "outputs": [],
   "source": [
    "X = np.arange(99)"
   ]
  },
  {
   "cell_type": "code",
   "execution_count": 27,
   "id": "a48cef7b-5d62-4ebc-9b09-2a2bd3eebb79",
   "metadata": {},
   "outputs": [
    {
     "data": {
      "text/plain": [
       "array([ 0,  1,  2,  3,  4,  5,  6,  7,  8,  9, 10, 11, 12, 13, 14, 15, 16,\n",
       "       17, 18, 19, 20, 21, 22, 23, 24, 25, 26, 27, 28, 29, 30, 31, 32, 33,\n",
       "       34, 35, 36, 37, 38, 39, 40, 41, 42, 43, 44, 45, 46, 47, 48, 49, 50,\n",
       "       51, 52, 53, 54, 55, 56, 57, 58, 59, 60, 61, 62, 63, 64, 65, 66, 67,\n",
       "       68, 69, 70, 71, 72, 73, 74, 75, 76, 77, 78, 79, 80, 81, 82, 83, 84,\n",
       "       85, 86, 87, 88, 89, 90, 91, 92, 93, 94, 95, 96, 97, 98])"
      ]
     },
     "execution_count": 27,
     "metadata": {},
     "output_type": "execute_result"
    }
   ],
   "source": [
    "X"
   ]
  },
  {
   "cell_type": "code",
   "execution_count": 28,
   "id": "dfb5562b-06dd-4878-80f0-e57806060fdb",
   "metadata": {},
   "outputs": [],
   "source": [
    "y = X.reshape(33,3)"
   ]
  },
  {
   "cell_type": "code",
   "execution_count": 29,
   "id": "d1b59c11-80e1-43da-83bb-4501a02bd276",
   "metadata": {},
   "outputs": [
    {
     "data": {
      "text/plain": [
       "array([[ 0,  1,  2],\n",
       "       [ 3,  4,  5],\n",
       "       [ 6,  7,  8],\n",
       "       [ 9, 10, 11],\n",
       "       [12, 13, 14],\n",
       "       [15, 16, 17],\n",
       "       [18, 19, 20],\n",
       "       [21, 22, 23],\n",
       "       [24, 25, 26],\n",
       "       [27, 28, 29],\n",
       "       [30, 31, 32],\n",
       "       [33, 34, 35],\n",
       "       [36, 37, 38],\n",
       "       [39, 40, 41],\n",
       "       [42, 43, 44],\n",
       "       [45, 46, 47],\n",
       "       [48, 49, 50],\n",
       "       [51, 52, 53],\n",
       "       [54, 55, 56],\n",
       "       [57, 58, 59],\n",
       "       [60, 61, 62],\n",
       "       [63, 64, 65],\n",
       "       [66, 67, 68],\n",
       "       [69, 70, 71],\n",
       "       [72, 73, 74],\n",
       "       [75, 76, 77],\n",
       "       [78, 79, 80],\n",
       "       [81, 82, 83],\n",
       "       [84, 85, 86],\n",
       "       [87, 88, 89],\n",
       "       [90, 91, 92],\n",
       "       [93, 94, 95],\n",
       "       [96, 97, 98]])"
      ]
     },
     "execution_count": 29,
     "metadata": {},
     "output_type": "execute_result"
    }
   ],
   "source": [
    "y"
   ]
  },
  {
   "cell_type": "code",
   "execution_count": 30,
   "id": "af510eff-9b13-43f2-b6dc-260825bdc933",
   "metadata": {},
   "outputs": [
    {
     "data": {
      "text/plain": [
       "array([1584, 1617, 1650])"
      ]
     },
     "execution_count": 30,
     "metadata": {},
     "output_type": "execute_result"
    }
   ],
   "source": [
    "y.sum(axis=0)"
   ]
  },
  {
   "cell_type": "code",
   "execution_count": 31,
   "id": "ca7a3b93-69f3-4651-96e5-6cda35affc1e",
   "metadata": {},
   "outputs": [
    {
     "data": {
      "text/plain": [
       "array([  3,  12,  21,  30,  39,  48,  57,  66,  75,  84,  93, 102, 111,\n",
       "       120, 129, 138, 147, 156, 165, 174, 183, 192, 201, 210, 219, 228,\n",
       "       237, 246, 255, 264, 273, 282, 291])"
      ]
     },
     "execution_count": 31,
     "metadata": {},
     "output_type": "execute_result"
    }
   ],
   "source": [
    "y.sum(axis=1)"
   ]
  },
  {
   "cell_type": "code",
   "execution_count": 32,
   "id": "ba982ba4-40f6-4acf-94e7-402d372ffc05",
   "metadata": {},
   "outputs": [
    {
     "data": {
      "text/plain": [
       "(33, 3)"
      ]
     },
     "execution_count": 32,
     "metadata": {},
     "output_type": "execute_result"
    }
   ],
   "source": [
    "y.shape"
   ]
  },
  {
   "cell_type": "code",
   "execution_count": 33,
   "id": "24875134-4339-4a9d-8aab-8a0c904bd930",
   "metadata": {},
   "outputs": [
    {
     "data": {
      "text/plain": [
       "396"
      ]
     },
     "execution_count": 33,
     "metadata": {},
     "output_type": "execute_result"
    }
   ],
   "source": [
    "y.nbytes"
   ]
  },
  {
   "cell_type": "code",
   "execution_count": 34,
   "id": "afbc75fc-67f8-4fbb-bccc-8c929a12ec0f",
   "metadata": {},
   "outputs": [],
   "source": [
    "one = np.array([2,5,7,89,0])"
   ]
  },
  {
   "cell_type": "code",
   "execution_count": 35,
   "id": "f133b5b1-d6dd-406e-abb4-ca8361f7edbf",
   "metadata": {},
   "outputs": [
    {
     "data": {
      "text/plain": [
       "3"
      ]
     },
     "execution_count": 35,
     "metadata": {},
     "output_type": "execute_result"
    }
   ],
   "source": [
    "one.argmax()"
   ]
  },
  {
   "cell_type": "code",
   "execution_count": 36,
   "id": "be57566a-793d-4533-8566-0c1fd34acde4",
   "metadata": {},
   "outputs": [
    {
     "data": {
      "text/plain": [
       "4"
      ]
     },
     "execution_count": 36,
     "metadata": {},
     "output_type": "execute_result"
    }
   ],
   "source": [
    "one.argmin()"
   ]
  },
  {
   "cell_type": "code",
   "execution_count": 37,
   "id": "cbed3c18-57df-453a-ad4a-22f2e871d649",
   "metadata": {},
   "outputs": [
    {
     "data": {
      "text/plain": [
       "array([4, 0, 1, 2, 3], dtype=int64)"
      ]
     },
     "execution_count": 37,
     "metadata": {},
     "output_type": "execute_result"
    }
   ],
   "source": [
    "one.argsort()"
   ]
  },
  {
   "cell_type": "markdown",
   "id": "cd3ff7e1-3d9d-4a5c-80d1-c9875efc4d05",
   "metadata": {},
   "source": [
    "**same thing we can do with large array but first it will arrange into 1D array then perform a task**"
   ]
  },
  {
   "cell_type": "code",
   "execution_count": 38,
   "id": "b8582e1a-3d38-4500-944b-d8b8dfc57ca6",
   "metadata": {},
   "outputs": [
    {
     "data": {
      "text/plain": [
       "98"
      ]
     },
     "execution_count": 38,
     "metadata": {},
     "output_type": "execute_result"
    }
   ],
   "source": [
    "y.argmax()"
   ]
  },
  {
   "cell_type": "code",
   "execution_count": 39,
   "id": "fa6e394b-f5f0-4afa-a875-43ccda2fc81e",
   "metadata": {},
   "outputs": [
    {
     "data": {
      "text/plain": [
       "array([[ 0,  1,  2],\n",
       "       [ 3,  4,  5],\n",
       "       [ 6,  7,  8],\n",
       "       [ 9, 10, 11],\n",
       "       [12, 13, 14],\n",
       "       [15, 16, 17],\n",
       "       [18, 19, 20],\n",
       "       [21, 22, 23],\n",
       "       [24, 25, 26],\n",
       "       [27, 28, 29],\n",
       "       [30, 31, 32],\n",
       "       [33, 34, 35],\n",
       "       [36, 37, 38],\n",
       "       [39, 40, 41],\n",
       "       [42, 43, 44],\n",
       "       [45, 46, 47],\n",
       "       [48, 49, 50],\n",
       "       [51, 52, 53],\n",
       "       [54, 55, 56],\n",
       "       [57, 58, 59],\n",
       "       [60, 61, 62],\n",
       "       [63, 64, 65],\n",
       "       [66, 67, 68],\n",
       "       [69, 70, 71],\n",
       "       [72, 73, 74],\n",
       "       [75, 76, 77],\n",
       "       [78, 79, 80],\n",
       "       [81, 82, 83],\n",
       "       [84, 85, 86],\n",
       "       [87, 88, 89],\n",
       "       [90, 91, 92],\n",
       "       [93, 94, 95],\n",
       "       [96, 97, 98]])"
      ]
     },
     "execution_count": 39,
     "metadata": {},
     "output_type": "execute_result"
    }
   ],
   "source": [
    "y"
   ]
  },
  {
   "cell_type": "code",
   "execution_count": 40,
   "id": "13603dd1-2489-4701-bda0-539e251ac851",
   "metadata": {},
   "outputs": [
    {
     "data": {
      "text/plain": [
       "0"
      ]
     },
     "execution_count": 40,
     "metadata": {},
     "output_type": "execute_result"
    }
   ],
   "source": [
    "y.argmin()"
   ]
  },
  {
   "cell_type": "code",
   "execution_count": 41,
   "id": "8f5f92b9-f831-467a-96d6-3bafa200b7e5",
   "metadata": {},
   "outputs": [
    {
     "data": {
      "text/plain": [
       "array([[0, 1, 2],\n",
       "       [0, 1, 2],\n",
       "       [0, 1, 2],\n",
       "       [0, 1, 2],\n",
       "       [0, 1, 2],\n",
       "       [0, 1, 2],\n",
       "       [0, 1, 2],\n",
       "       [0, 1, 2],\n",
       "       [0, 1, 2],\n",
       "       [0, 1, 2],\n",
       "       [0, 1, 2],\n",
       "       [0, 1, 2],\n",
       "       [0, 1, 2],\n",
       "       [0, 1, 2],\n",
       "       [0, 1, 2],\n",
       "       [0, 1, 2],\n",
       "       [0, 1, 2],\n",
       "       [0, 1, 2],\n",
       "       [0, 1, 2],\n",
       "       [0, 1, 2],\n",
       "       [0, 1, 2],\n",
       "       [0, 1, 2],\n",
       "       [0, 1, 2],\n",
       "       [0, 1, 2],\n",
       "       [0, 1, 2],\n",
       "       [0, 1, 2],\n",
       "       [0, 1, 2],\n",
       "       [0, 1, 2],\n",
       "       [0, 1, 2],\n",
       "       [0, 1, 2],\n",
       "       [0, 1, 2],\n",
       "       [0, 1, 2],\n",
       "       [0, 1, 2]], dtype=int64)"
      ]
     },
     "execution_count": 41,
     "metadata": {},
     "output_type": "execute_result"
    }
   ],
   "source": [
    "y.argsort()\n",
    "#here array got sorted as per index"
   ]
  },
  {
   "cell_type": "code",
   "execution_count": 42,
   "id": "584b8c8d-5d45-4214-bab8-4250be3e922b",
   "metadata": {},
   "outputs": [],
   "source": [
    "#lets perform this on small array that can be easily demonestrated\n",
    "new = np.array([[7,8,5],[65,76,88],[105,56,87]])"
   ]
  },
  {
   "cell_type": "code",
   "execution_count": 43,
   "id": "970e8110-d5ae-46be-8a3b-16a25285ac28",
   "metadata": {},
   "outputs": [
    {
     "data": {
      "text/plain": [
       "array([[  7,   8,   5],\n",
       "       [ 65,  76,  88],\n",
       "       [105,  56,  87]])"
      ]
     },
     "execution_count": 43,
     "metadata": {},
     "output_type": "execute_result"
    }
   ],
   "source": [
    "new"
   ]
  },
  {
   "cell_type": "code",
   "execution_count": 44,
   "id": "37c08ca0-00af-4146-98b4-167fad4677ab",
   "metadata": {},
   "outputs": [
    {
     "data": {
      "text/plain": [
       "array([[2, 0, 1],\n",
       "       [0, 1, 2],\n",
       "       [1, 2, 0]], dtype=int64)"
      ]
     },
     "execution_count": 44,
     "metadata": {},
     "output_type": "execute_result"
    }
   ],
   "source": [
    "new.argsort()"
   ]
  },
  {
   "cell_type": "code",
   "execution_count": 45,
   "id": "bf7b9808-bfe5-4a65-b73d-2b6302e57261",
   "metadata": {},
   "outputs": [
    {
     "data": {
      "text/plain": [
       "array([  7,   8,   5,  65,  76,  88, 105,  56,  87])"
      ]
     },
     "execution_count": 45,
     "metadata": {},
     "output_type": "execute_result"
    }
   ],
   "source": [
    "b = new.ravel()\n",
    "b"
   ]
  },
  {
   "cell_type": "code",
   "execution_count": 46,
   "id": "9837c933-bc73-41ab-a0e3-5dc4e4ddc213",
   "metadata": {},
   "outputs": [
    {
     "data": {
      "text/plain": [
       "array([2, 0, 1, 7, 3, 4, 8, 5, 6], dtype=int64)"
      ]
     },
     "execution_count": 46,
     "metadata": {},
     "output_type": "execute_result"
    }
   ],
   "source": [
    "b.argsort()"
   ]
  },
  {
   "cell_type": "code",
   "execution_count": 47,
   "id": "07162d29-3fce-4d2f-a067-b373c01324fd",
   "metadata": {},
   "outputs": [
    {
     "data": {
      "text/plain": [
       "array([[1, 2, 3],\n",
       "       [4, 5, 6],\n",
       "       [7, 1, 0]])"
      ]
     },
     "execution_count": 47,
     "metadata": {},
     "output_type": "execute_result"
    }
   ],
   "source": [
    "arr1=np.array([[1,2,3],[4,5,6],[7,1,0]])\n",
    "arr2=np.array([[9,2,3],[6,0,2],[2,1,3]])\n",
    "arr1"
   ]
  },
  {
   "cell_type": "code",
   "execution_count": 48,
   "id": "8639eeec-a3ee-41dd-a8f9-25600352a7b0",
   "metadata": {},
   "outputs": [
    {
     "data": {
      "text/plain": [
       "array([[9, 2, 3],\n",
       "       [6, 0, 2],\n",
       "       [2, 1, 3]])"
      ]
     },
     "execution_count": 48,
     "metadata": {},
     "output_type": "execute_result"
    }
   ],
   "source": [
    "arr2"
   ]
  },
  {
   "cell_type": "code",
   "execution_count": 49,
   "id": "0396a59d-1842-408e-b85a-90dcd43b4fdb",
   "metadata": {},
   "outputs": [
    {
     "data": {
      "text/plain": [
       "array([[10,  4,  6],\n",
       "       [10,  5,  8],\n",
       "       [ 9,  2,  3]])"
      ]
     },
     "execution_count": 49,
     "metadata": {},
     "output_type": "execute_result"
    }
   ],
   "source": [
    "arr1+arr2"
   ]
  },
  {
   "cell_type": "code",
   "execution_count": 50,
   "id": "dae18bda-5395-4646-a6a5-f050e52337cb",
   "metadata": {},
   "outputs": [
    {
     "data": {
      "text/plain": [
       "array([[ 9,  4,  9],\n",
       "       [24,  0, 12],\n",
       "       [14,  1,  0]])"
      ]
     },
     "execution_count": 50,
     "metadata": {},
     "output_type": "execute_result"
    }
   ],
   "source": [
    "j = arr1*arr2\n",
    "j"
   ]
  },
  {
   "cell_type": "code",
   "execution_count": 51,
   "id": "4ef6f3ac-6f57-423e-90af-863e703f48ba",
   "metadata": {},
   "outputs": [
    {
     "data": {
      "text/plain": [
       "array([[3.        , 2.        , 3.        ],\n",
       "       [4.89897949, 0.        , 3.46410162],\n",
       "       [3.74165739, 1.        , 0.        ]])"
      ]
     },
     "execution_count": 51,
     "metadata": {},
     "output_type": "execute_result"
    }
   ],
   "source": [
    "np.sqrt(j)"
   ]
  },
  {
   "cell_type": "code",
   "execution_count": 52,
   "id": "b40a0459-0234-404b-a3e6-6b7377b27b34",
   "metadata": {},
   "outputs": [
    {
     "name": "stdout",
     "output_type": "stream",
     "text": [
      "Float: 3.14\n"
     ]
    }
   ],
   "source": [
    "num_float = 3.14\n",
    "print(\"Float:\", num_float)"
   ]
  },
  {
   "cell_type": "markdown",
   "id": "1a3a7ec4-fefe-4aa2-a1c1-146f2a9f34dc",
   "metadata": {},
   "source": [
    "USING BITWISE OPERATOR"
   ]
  },
  {
   "cell_type": "code",
   "execution_count": 53,
   "id": "34762ae5-f834-4f5c-9268-a5c9e0e70b15",
   "metadata": {},
   "outputs": [
    {
     "data": {
      "text/plain": [
       "2"
      ]
     },
     "execution_count": 53,
     "metadata": {},
     "output_type": "execute_result"
    }
   ],
   "source": [
    "a=2\n",
    "b=3\n",
    "c=a & b\n",
    "c"
   ]
  },
  {
   "cell_type": "code",
   "execution_count": 54,
   "id": "59271fc1-35d3-43d0-878d-819d51c1533d",
   "metadata": {},
   "outputs": [
    {
     "data": {
      "text/plain": [
       "3"
      ]
     },
     "execution_count": 54,
     "metadata": {},
     "output_type": "execute_result"
    }
   ],
   "source": [
    "a=2\n",
    "b=3\n",
    "c=a | b\n",
    "c"
   ]
  },
  {
   "cell_type": "code",
   "execution_count": 55,
   "id": "e183c9a8-05d8-4e35-b8da-9468b45ae279",
   "metadata": {},
   "outputs": [
    {
     "name": "stdin",
     "output_type": "stream",
     "text": [
      "Enter 1st no.: 5\n",
      "Enter 2nd no.: 5\n"
     ]
    },
    {
     "name": "stdout",
     "output_type": "stream",
     "text": [
      "The sum of two numbers 10\n"
     ]
    }
   ],
   "source": [
    "print(\"The sum of two numbers\",int(input(\"Enter 1st no.:\"))+int(input(\"Enter 2nd no.:\")))"
   ]
  },
  {
   "cell_type": "code",
   "execution_count": 56,
   "id": "f16b2bf0-69b3-4363-974f-78707e7d3966",
   "metadata": {},
   "outputs": [],
   "source": [
    "import math"
   ]
  },
  {
   "cell_type": "code",
   "execution_count": 57,
   "id": "f384a2d9-e2d4-4581-848f-91880890f1f5",
   "metadata": {},
   "outputs": [
    {
     "data": {
      "text/plain": [
       "2998219536.0"
      ]
     },
     "execution_count": 57,
     "metadata": {},
     "output_type": "execute_result"
    }
   ],
   "source": [
    "#pow refers to power here where x and y are passed as x to the power y\n",
    "\n",
    "math.pow(234,4)"
   ]
  },
  {
   "cell_type": "code",
   "execution_count": 58,
   "id": "44d02a5e-a16a-42c4-b65e-67302f2b1453",
   "metadata": {},
   "outputs": [],
   "source": [
    "import platform as p"
   ]
  },
  {
   "cell_type": "code",
   "execution_count": 59,
   "id": "d1fb37fe-1427-4901-8812-d53be5c01bfc",
   "metadata": {},
   "outputs": [
    {
     "name": "stdout",
     "output_type": "stream",
     "text": [
      "Windows\n"
     ]
    }
   ],
   "source": [
    "print(p.system())"
   ]
  },
  {
   "cell_type": "code",
   "execution_count": 60,
   "id": "76ad92f6-301d-4754-877a-9c2c10541c89",
   "metadata": {},
   "outputs": [],
   "source": [
    "import math"
   ]
  },
  {
   "cell_type": "code",
   "execution_count": 61,
   "id": "f52959f9-901d-4338-8429-c9cd6ecc3129",
   "metadata": {},
   "outputs": [
    {
     "name": "stdin",
     "output_type": "stream",
     "text": [
      "Enter the value of r 45\n"
     ]
    },
    {
     "name": "stdout",
     "output_type": "stream",
     "text": [
      "Area is : 6361.725123519331\n",
      "Circumference is : 282.7433388230814\n"
     ]
    }
   ],
   "source": [
    "r=float(input(\"Enter the value of r\"))\n",
    "area = math.pi*math.pow(r,2)\n",
    "circ= math.tau*r\n",
    "print(\"Area is :\",area )\n",
    "print(\"Circumference is :\",circ)"
   ]
  },
  {
   "cell_type": "code",
   "execution_count": 64,
   "id": "7008e3c4-cfa5-40ca-bd56-b860f951165f",
   "metadata": {},
   "outputs": [],
   "source": [
    "#Now try to write this code in one single line\n",
    "#import math\n",
    "#print(\"Area of Circle:\",math.pi*math.pow(r=int(input(\"Enter the value of radius\"),2)"
   ]
  },
  {
   "cell_type": "code",
   "execution_count": 65,
   "id": "6118295e-baff-44d8-a209-b0fe07209b75",
   "metadata": {},
   "outputs": [
    {
     "name": "stdin",
     "output_type": "stream",
     "text": [
      "Enter your name: Aryan\n",
      "Enter your current age 23\n"
     ]
    },
    {
     "name": "stdout",
     "output_type": "stream",
     "text": [
      "Your name is Aryan And You are left with 77 years to become 100 year old in 2101\n"
     ]
    }
   ],
   "source": [
    "#wap where user gives name and age as input and program returns how old they will will after 100 years.\n",
    "name = (input(\"Enter your name:\"))\n",
    "age = int(input(\"Enter your current age\"))\n",
    "age=100-age\n",
    "year = 2024\n",
    "newyear = age+2024\n",
    "print(\"Your name is\",name,\"And You are left with\",age,\"years to become 100 year old in\",newyear)"
   ]
  },
  {
   "cell_type": "code",
   "execution_count": 66,
   "id": "1e2f2d7c-be94-4fe1-b83c-7db029818a5f",
   "metadata": {},
   "outputs": [
    {
     "name": "stdout",
     "output_type": "stream",
     "text": [
      "4\n"
     ]
    }
   ],
   "source": [
    "x = eval('2+2')\n",
    "print(x)"
   ]
  },
  {
   "cell_type": "code",
   "execution_count": 67,
   "id": "fad5c2a9-711f-466e-9f08-f776177c51c7",
   "metadata": {},
   "outputs": [
    {
     "name": "stdin",
     "output_type": "stream",
     "text": [
      "Enter the value: 4\n"
     ]
    },
    {
     "name": "stdout",
     "output_type": "stream",
     "text": [
      "4 Is Even\n"
     ]
    }
   ],
   "source": [
    "x = int(input(\"Enter the value:\"))\n",
    "if(x%2==0):\n",
    "    print(x,\"Is Even\")\n",
    "else:\n",
    "    print(x,\"Is Odd\")\n"
   ]
  },
  {
   "cell_type": "code",
   "execution_count": 68,
   "id": "90004723-156f-4cb2-8a11-69b0637cb2eb",
   "metadata": {},
   "outputs": [
    {
     "name": "stdin",
     "output_type": "stream",
     "text": [
      "Enter the marks 45\n"
     ]
    },
    {
     "name": "stdout",
     "output_type": "stream",
     "text": [
      "Grade C\n"
     ]
    }
   ],
   "source": [
    "x =int(input(\"Enter the marks\"))\n",
    "if(x>90):\n",
    "    print(\"Grade A\")\n",
    "elif(x>60):\n",
    "    print(\"Grade B\")\n",
    "else:\n",
    "    print(\"Grade C\")\n",
    "    \n"
   ]
  },
  {
   "cell_type": "code",
   "execution_count": 69,
   "id": "f4775d30-bbf0-4f14-aee2-ca42a2e35ddb",
   "metadata": {},
   "outputs": [
    {
     "name": "stdin",
     "output_type": "stream",
     "text": [
      "Enter a character:  dsadfw\n"
     ]
    },
    {
     "name": "stdout",
     "output_type": "stream",
     "text": [
      "The character 'dsadfw' is a small letter.\n"
     ]
    }
   ],
   "source": [
    "def check_letter_type(char):\n",
    "    if char.isalpha():\n",
    "        if char.isupper():\n",
    "            print(f\"The character '{char}' is a capital letter.\")\n",
    "        elif char.islower():\n",
    "            print(f\"The character '{char}' is a small letter.\")\n",
    "    else:\n",
    "        print(\"Please enter a valid alphabet.\")\n",
    "\n",
    "\n",
    "# Accepting input from the user\n",
    "character = input(\"Enter a character: \")\n",
    "\n",
    "# Checking the type of the entered character\n",
    "check_letter_type(character)\n"
   ]
  },
  {
   "cell_type": "code",
   "execution_count": 70,
   "id": "3a19b6b1-9422-4d47-b066-abfeeb3cadd0",
   "metadata": {},
   "outputs": [
    {
     "name": "stdout",
     "output_type": "stream",
     "text": [
      "The values are 3.5 and 3.5\n",
      "The sum is 5.5\n"
     ]
    }
   ],
   "source": [
    "def add(a,b):\n",
    "    print(\"The values are\",a,\"and\",a)\n",
    "    c= a+b\n",
    "    print(\"The sum is\",c)\n",
    "add(3.5,2)    "
   ]
  },
  {
   "cell_type": "code",
   "execution_count": 71,
   "id": "57ffc2f5-d9f1-4646-aaaf-17e20529f861",
   "metadata": {},
   "outputs": [
    {
     "name": "stdout",
     "output_type": "stream",
     "text": [
      "The total power consumed is 500 KW for 60 hours at the rate of 9 Rupees/Unit\n",
      "Your Electricity bill is 1800.0\n"
     ]
    }
   ],
   "source": [
    "def bill(power,time,rate):\n",
    "    print(\"The total power consumed is\",power,\"KW for\",time,\"hours at the rate of\",rate,\"Rupees/Unit\")\n",
    "    x = ((power*time)/1000)*time\n",
    "    print(\"Your Electricity bill is\",x)\n",
    "bill(500,60,9)    "
   ]
  },
  {
   "cell_type": "code",
   "execution_count": 72,
   "id": "c7af2018-1954-46cb-98ec-7ba768eb9723",
   "metadata": {},
   "outputs": [
    {
     "name": "stdout",
     "output_type": "stream",
     "text": [
      "The total power consumed is 700 KW for 98 hours at the rate of 90 Rupees/Unit\n",
      "Your Electricity bill is 6722.799999999999\n"
     ]
    }
   ],
   "source": [
    "bill(700,98,90)"
   ]
  },
  {
   "cell_type": "code",
   "execution_count": null,
   "id": "fa7bfb9f-f300-41cf-b12c-3dfc203fa245",
   "metadata": {},
   "outputs": [],
   "source": []
  },
  {
   "cell_type": "code",
   "execution_count": null,
   "id": "d170620a-a1ef-464d-a8b5-5212b07ed3ae",
   "metadata": {},
   "outputs": [],
   "source": []
  },
  {
   "cell_type": "code",
   "execution_count": null,
   "id": "0bca205a-35c5-4d80-9519-b43ba0c3e2ed",
   "metadata": {},
   "outputs": [],
   "source": []
  },
  {
   "cell_type": "code",
   "execution_count": null,
   "id": "429b40d3-4c6c-495e-8910-0debfa0d4c7c",
   "metadata": {},
   "outputs": [],
   "source": []
  }
 ],
 "metadata": {
  "kernelspec": {
   "display_name": "Python 3 (ipykernel)",
   "language": "python",
   "name": "python3"
  },
  "language_info": {
   "codemirror_mode": {
    "name": "ipython",
    "version": 3
   },
   "file_extension": ".py",
   "mimetype": "text/x-python",
   "name": "python",
   "nbconvert_exporter": "python",
   "pygments_lexer": "ipython3",
   "version": "3.12.2"
  }
 },
 "nbformat": 4,
 "nbformat_minor": 5
}
